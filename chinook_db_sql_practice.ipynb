{
 "cells": [
  {
   "cell_type": "markdown",
   "metadata": {},
   "source": [
    "# Practicing SQL by Answering Real Life Business Problems"
   ]
  },
  {
   "cell_type": "markdown",
   "metadata": {},
   "source": [
    "## Introduction"
   ]
  },
  {
   "cell_type": "markdown",
   "metadata": {},
   "source": [
    "In this notebook we will work with the Chinook database. This is a collection of data which is supposed to represent a mock digital media store, much like iTunes. The database is hosted by [this GitHub repository](https://github.com/lerocha/chinook-database) and includes information about artists, albums, media tracks, customers and purchases made on the store. \n",
    "\n",
    "We will play the role of a consultant who has been asked to address some business questions related to the store's activity; retrieving the relevant data from the database using SQL, we answer these questions by formulating a strategy which could maximize the revenues. "
   ]
  },
  {
   "cell_type": "markdown",
   "metadata": {},
   "source": [
    "The database organizes the data using eleven different tables. We include below a copy of the database schema. For writing our queries, we will tacitly refer to this schema throughout the notebook."
   ]
  },
  {
   "cell_type": "markdown",
   "metadata": {},
   "source": [
    "![db_schema](chinook_schema.png)"
   ]
  },
  {
   "cell_type": "markdown",
   "metadata": {},
   "source": [
    "In order to be able to connect to the database and run SQL code directly on this notebook, we first need to install the appropriate component.  "
   ]
  },
  {
   "cell_type": "code",
   "execution_count": 1,
   "metadata": {
    "collapsed": true,
    "jupyter": {
     "outputs_hidden": true
    },
    "tags": []
   },
   "outputs": [
    {
     "name": "stdout",
     "output_type": "stream",
     "text": [
      "Requirement already satisfied: ipython-sql in c:\\users\\olivetti\\anaconda3\\lib\\site-packages (0.4.1)\n",
      "Requirement already satisfied: sqlalchemy>=0.6.7 in c:\\users\\olivetti\\anaconda3\\lib\\site-packages (from ipython-sql) (1.4.22)\n",
      "Requirement already satisfied: ipython-genutils>=0.1.0 in c:\\users\\olivetti\\anaconda3\\lib\\site-packages (from ipython-sql) (0.2.0)\n",
      "Requirement already satisfied: sqlparse in c:\\users\\olivetti\\anaconda3\\lib\\site-packages (from ipython-sql) (0.4.2)\n",
      "Requirement already satisfied: ipython>=1.0 in c:\\users\\olivetti\\anaconda3\\lib\\site-packages (from ipython-sql) (7.29.0)\n",
      "Requirement already satisfied: prettytable<1 in c:\\users\\olivetti\\anaconda3\\lib\\site-packages (from ipython-sql) (0.7.2)\n",
      "Requirement already satisfied: six in c:\\users\\olivetti\\anaconda3\\lib\\site-packages (from ipython-sql) (1.16.0)\n",
      "Requirement already satisfied: setuptools>=18.5 in c:\\users\\olivetti\\anaconda3\\lib\\site-packages (from ipython>=1.0->ipython-sql) (58.0.4)\n",
      "Requirement already satisfied: matplotlib-inline in c:\\users\\olivetti\\anaconda3\\lib\\site-packages (from ipython>=1.0->ipython-sql) (0.1.2)\n",
      "Requirement already satisfied: pickleshare in c:\\users\\olivetti\\anaconda3\\lib\\site-packages (from ipython>=1.0->ipython-sql) (0.7.5)\n",
      "Requirement already satisfied: colorama in c:\\users\\olivetti\\anaconda3\\lib\\site-packages (from ipython>=1.0->ipython-sql) (0.4.4)\n",
      "Requirement already satisfied: pygments in c:\\users\\olivetti\\anaconda3\\lib\\site-packages (from ipython>=1.0->ipython-sql) (2.10.0)\n",
      "Requirement already satisfied: backcall in c:\\users\\olivetti\\anaconda3\\lib\\site-packages (from ipython>=1.0->ipython-sql) (0.2.0)\n",
      "Requirement already satisfied: decorator in c:\\users\\olivetti\\anaconda3\\lib\\site-packages (from ipython>=1.0->ipython-sql) (5.1.0)\n",
      "Requirement already satisfied: prompt-toolkit!=3.0.0,!=3.0.1,<3.1.0,>=2.0.0 in c:\\users\\olivetti\\anaconda3\\lib\\site-packages (from ipython>=1.0->ipython-sql) (3.0.20)\n",
      "Requirement already satisfied: jedi>=0.16 in c:\\users\\olivetti\\anaconda3\\lib\\site-packages (from ipython>=1.0->ipython-sql) (0.18.0)\n",
      "Requirement already satisfied: traitlets>=4.2 in c:\\users\\olivetti\\anaconda3\\lib\\site-packages (from ipython>=1.0->ipython-sql) (5.1.0)\n",
      "Requirement already satisfied: parso<0.9.0,>=0.8.0 in c:\\users\\olivetti\\anaconda3\\lib\\site-packages (from jedi>=0.16->ipython>=1.0->ipython-sql) (0.8.2)\n",
      "Requirement already satisfied: wcwidth in c:\\users\\olivetti\\anaconda3\\lib\\site-packages (from prompt-toolkit!=3.0.0,!=3.0.1,<3.1.0,>=2.0.0->ipython>=1.0->ipython-sql) (0.2.5)\n",
      "Requirement already satisfied: greenlet!=0.4.17 in c:\\users\\olivetti\\anaconda3\\lib\\site-packages (from sqlalchemy>=0.6.7->ipython-sql) (1.1.1)\n"
     ]
    }
   ],
   "source": [
    "# Install the %sql magic which allows to run SQL syntax from this notebook\n",
    "!pip install ipython-sql"
   ]
  },
  {
   "cell_type": "code",
   "execution_count": 2,
   "metadata": {},
   "outputs": [],
   "source": [
    "# Import the actual SQL module \n",
    "%load_ext sql"
   ]
  },
  {
   "cell_type": "markdown",
   "metadata": {},
   "source": [
    "From now on, in order to execute an SQL query, it is enough to include the magic command `%%sql` before the text of the query (notice that we use two *%* signs so that the entire content of a cell, rather than a single line, will be interpreted as SQL syntax)."
   ]
  },
  {
   "cell_type": "markdown",
   "metadata": {},
   "source": [
    "---"
   ]
  },
  {
   "cell_type": "markdown",
   "metadata": {},
   "source": [
    "## Exploring the Database"
   ]
  },
  {
   "cell_type": "markdown",
   "metadata": {},
   "source": [
    "Before writing our first query, we need to connect to the database."
   ]
  },
  {
   "cell_type": "code",
   "execution_count": 3,
   "metadata": {},
   "outputs": [],
   "source": [
    "# Connect to database\n",
    "%sql sqlite:///chinook.db"
   ]
  },
  {
   "cell_type": "markdown",
   "metadata": {},
   "source": [
    "Let's start by printing a list of all the tables in the database."
   ]
  },
  {
   "cell_type": "code",
   "execution_count": 4,
   "metadata": {},
   "outputs": [
    {
     "name": "stdout",
     "output_type": "stream",
     "text": [
      " * sqlite:///chinook.db\n",
      "Done.\n"
     ]
    },
    {
     "data": {
      "text/html": [
       "<table>\n",
       "    <tr>\n",
       "        <th>name</th>\n",
       "        <th>type</th>\n",
       "    </tr>\n",
       "    <tr>\n",
       "        <td>album</td>\n",
       "        <td>table</td>\n",
       "    </tr>\n",
       "    <tr>\n",
       "        <td>artist</td>\n",
       "        <td>table</td>\n",
       "    </tr>\n",
       "    <tr>\n",
       "        <td>customer</td>\n",
       "        <td>table</td>\n",
       "    </tr>\n",
       "    <tr>\n",
       "        <td>employee</td>\n",
       "        <td>table</td>\n",
       "    </tr>\n",
       "    <tr>\n",
       "        <td>genre</td>\n",
       "        <td>table</td>\n",
       "    </tr>\n",
       "    <tr>\n",
       "        <td>invoice</td>\n",
       "        <td>table</td>\n",
       "    </tr>\n",
       "    <tr>\n",
       "        <td>invoice_line</td>\n",
       "        <td>table</td>\n",
       "    </tr>\n",
       "    <tr>\n",
       "        <td>media_type</td>\n",
       "        <td>table</td>\n",
       "    </tr>\n",
       "    <tr>\n",
       "        <td>playlist</td>\n",
       "        <td>table</td>\n",
       "    </tr>\n",
       "    <tr>\n",
       "        <td>playlist_track</td>\n",
       "        <td>table</td>\n",
       "    </tr>\n",
       "    <tr>\n",
       "        <td>track</td>\n",
       "        <td>table</td>\n",
       "    </tr>\n",
       "</table>"
      ],
      "text/plain": [
       "[('album', 'table'),\n",
       " ('artist', 'table'),\n",
       " ('customer', 'table'),\n",
       " ('employee', 'table'),\n",
       " ('genre', 'table'),\n",
       " ('invoice', 'table'),\n",
       " ('invoice_line', 'table'),\n",
       " ('media_type', 'table'),\n",
       " ('playlist', 'table'),\n",
       " ('playlist_track', 'table'),\n",
       " ('track', 'table')]"
      ]
     },
     "execution_count": 4,
     "metadata": {},
     "output_type": "execute_result"
    }
   ],
   "source": [
    "%%sql\n",
    "\n",
    "-- Print the names of all tables and all views in the database\n",
    "\n",
    "SELECT\n",
    "       name,\n",
    "       type\n",
    "  FROM sqlite_master\n",
    " WHERE type IN (\"table\",\"view\");"
   ]
  },
  {
   "cell_type": "markdown",
   "metadata": {},
   "source": [
    "Notice how the output is displayed as a pandas dataframe: this is one of the cool features of the *sql* module for Jupyter notebook!"
   ]
  },
  {
   "cell_type": "markdown",
   "metadata": {},
   "source": [
    "Now, let's write a few basic queries to get familiar with the data."
   ]
  },
  {
   "cell_type": "code",
   "execution_count": 5,
   "metadata": {},
   "outputs": [
    {
     "name": "stdout",
     "output_type": "stream",
     "text": [
      " * sqlite:///chinook.db\n",
      "Done.\n"
     ]
    },
    {
     "data": {
      "text/html": [
       "<table>\n",
       "    <tr>\n",
       "        <th>track_id</th>\n",
       "        <th>name</th>\n",
       "        <th>album_id</th>\n",
       "        <th>media_type_id</th>\n",
       "        <th>genre_id</th>\n",
       "        <th>composer</th>\n",
       "        <th>milliseconds</th>\n",
       "        <th>bytes</th>\n",
       "        <th>unit_price</th>\n",
       "    </tr>\n",
       "    <tr>\n",
       "        <td>1</td>\n",
       "        <td>For Those About To Rock (We Salute You)</td>\n",
       "        <td>1</td>\n",
       "        <td>1</td>\n",
       "        <td>1</td>\n",
       "        <td>Angus Young, Malcolm Young, Brian Johnson</td>\n",
       "        <td>343719</td>\n",
       "        <td>11170334</td>\n",
       "        <td>0.99</td>\n",
       "    </tr>\n",
       "    <tr>\n",
       "        <td>2</td>\n",
       "        <td>Balls to the Wall</td>\n",
       "        <td>2</td>\n",
       "        <td>2</td>\n",
       "        <td>1</td>\n",
       "        <td>None</td>\n",
       "        <td>342562</td>\n",
       "        <td>5510424</td>\n",
       "        <td>0.99</td>\n",
       "    </tr>\n",
       "    <tr>\n",
       "        <td>3</td>\n",
       "        <td>Fast As a Shark</td>\n",
       "        <td>3</td>\n",
       "        <td>2</td>\n",
       "        <td>1</td>\n",
       "        <td>F. Baltes, S. Kaufman, U. Dirkscneider &amp; W. Hoffman</td>\n",
       "        <td>230619</td>\n",
       "        <td>3990994</td>\n",
       "        <td>0.99</td>\n",
       "    </tr>\n",
       "    <tr>\n",
       "        <td>4</td>\n",
       "        <td>Restless and Wild</td>\n",
       "        <td>3</td>\n",
       "        <td>2</td>\n",
       "        <td>1</td>\n",
       "        <td>F. Baltes, R.A. Smith-Diesel, S. Kaufman, U. Dirkscneider &amp; W. Hoffman</td>\n",
       "        <td>252051</td>\n",
       "        <td>4331779</td>\n",
       "        <td>0.99</td>\n",
       "    </tr>\n",
       "    <tr>\n",
       "        <td>5</td>\n",
       "        <td>Princess of the Dawn</td>\n",
       "        <td>3</td>\n",
       "        <td>2</td>\n",
       "        <td>1</td>\n",
       "        <td>Deaffy &amp; R.A. Smith-Diesel</td>\n",
       "        <td>375418</td>\n",
       "        <td>6290521</td>\n",
       "        <td>0.99</td>\n",
       "    </tr>\n",
       "</table>"
      ],
      "text/plain": [
       "[(1, 'For Those About To Rock (We Salute You)', 1, 1, 1, 'Angus Young, Malcolm Young, Brian Johnson', 343719, 11170334, 0.99),\n",
       " (2, 'Balls to the Wall', 2, 2, 1, None, 342562, 5510424, 0.99),\n",
       " (3, 'Fast As a Shark', 3, 2, 1, 'F. Baltes, S. Kaufman, U. Dirkscneider & W. Hoffman', 230619, 3990994, 0.99),\n",
       " (4, 'Restless and Wild', 3, 2, 1, 'F. Baltes, R.A. Smith-Diesel, S. Kaufman, U. Dirkscneider & W. Hoffman', 252051, 4331779, 0.99),\n",
       " (5, 'Princess of the Dawn', 3, 2, 1, 'Deaffy & R.A. Smith-Diesel', 375418, 6290521, 0.99)]"
      ]
     },
     "execution_count": 5,
     "metadata": {},
     "output_type": "execute_result"
    }
   ],
   "source": [
    "%%sql\n",
    "\n",
    "-- Print the first 5 rows of the track table\n",
    "\n",
    "SELECT *\n",
    "  FROM track\n",
    " LIMIT 5;"
   ]
  },
  {
   "cell_type": "code",
   "execution_count": 6,
   "metadata": {},
   "outputs": [
    {
     "name": "stdout",
     "output_type": "stream",
     "text": [
      " * sqlite:///chinook.db\n",
      "Done.\n"
     ]
    },
    {
     "data": {
      "text/html": [
       "<table>\n",
       "    <tr>\n",
       "        <th>number_of_tracks</th>\n",
       "    </tr>\n",
       "    <tr>\n",
       "        <td>3503</td>\n",
       "    </tr>\n",
       "</table>"
      ],
      "text/plain": [
       "[(3503,)]"
      ]
     },
     "execution_count": 6,
     "metadata": {},
     "output_type": "execute_result"
    }
   ],
   "source": [
    "%%sql\n",
    "\n",
    "-- Print the number of tracks contained in the track table\n",
    "\n",
    "SELECT COUNT(*) AS number_of_tracks\n",
    "  FROM track;"
   ]
  },
  {
   "cell_type": "code",
   "execution_count": 7,
   "metadata": {},
   "outputs": [
    {
     "name": "stdout",
     "output_type": "stream",
     "text": [
      " * sqlite:///chinook.db\n",
      "Done.\n"
     ]
    },
    {
     "data": {
      "text/html": [
       "<table>\n",
       "    <tr>\n",
       "        <th>Playlist</th>\n",
       "        <th>Numbers_of_Track</th>\n",
       "    </tr>\n",
       "    <tr>\n",
       "        <td>90’s Music</td>\n",
       "        <td>1477</td>\n",
       "    </tr>\n",
       "    <tr>\n",
       "        <td>Brazilian Music</td>\n",
       "        <td>39</td>\n",
       "    </tr>\n",
       "    <tr>\n",
       "        <td>Classical</td>\n",
       "        <td>75</td>\n",
       "    </tr>\n",
       "    <tr>\n",
       "        <td>Classical 101 - Deep Cuts</td>\n",
       "        <td>25</td>\n",
       "    </tr>\n",
       "    <tr>\n",
       "        <td>Classical 101 - Next Steps</td>\n",
       "        <td>25</td>\n",
       "    </tr>\n",
       "    <tr>\n",
       "        <td>Classical 101 - The Basics</td>\n",
       "        <td>25</td>\n",
       "    </tr>\n",
       "    <tr>\n",
       "        <td>Grunge</td>\n",
       "        <td>15</td>\n",
       "    </tr>\n",
       "    <tr>\n",
       "        <td>Heavy Metal Classic</td>\n",
       "        <td>26</td>\n",
       "    </tr>\n",
       "    <tr>\n",
       "        <td>Music</td>\n",
       "        <td>6580</td>\n",
       "    </tr>\n",
       "    <tr>\n",
       "        <td>Music Videos</td>\n",
       "        <td>1</td>\n",
       "    </tr>\n",
       "</table>"
      ],
      "text/plain": [
       "[('90’s Music', 1477),\n",
       " ('Brazilian Music', 39),\n",
       " ('Classical', 75),\n",
       " ('Classical 101 - Deep Cuts', 25),\n",
       " ('Classical 101 - Next Steps', 25),\n",
       " ('Classical 101 - The Basics', 25),\n",
       " ('Grunge', 15),\n",
       " ('Heavy Metal Classic', 26),\n",
       " ('Music', 6580),\n",
       " ('Music Videos', 1)]"
      ]
     },
     "execution_count": 7,
     "metadata": {},
     "output_type": "execute_result"
    }
   ],
   "source": [
    "%%sql\n",
    "\n",
    "-- Print the name of the first 10 playlists together with the number of tracks they contain\n",
    "\n",
    "SELECT p.name Playlist,\n",
    "       COUNT(t.name) Numbers_of_Track\n",
    "  FROM playlist p \n",
    "       INNER JOIN playlist_track pt ON p.playlist_id = pt.playlist_id\n",
    "       INNER JOIN track t ON pt.playlist_id=t.track_id\n",
    "GROUP BY 1\n",
    " LIMIT 10;"
   ]
  },
  {
   "cell_type": "markdown",
   "metadata": {},
   "source": [
    "## Choosing What New Artist to Promote"
   ]
  },
  {
   "cell_type": "markdown",
   "metadata": {},
   "source": [
    "Let's assume the following scenario: the Chinook record store has signed a deal with a record label to promote some new artist; the record label has provided a short list of four artists but, following the deal, only three albums will be added to the store. Here is some info about these artists:\n",
    "\n",
    "|**Artist Name**|**Genre**|\n",
    "|---------------|---------|\n",
    "|Regal          |Hip-Hop  |\n",
    "|Red Tone       |Punk     |\n",
    "|Meteor and the Girls|Pop |\n",
    "|Slim Jim Bites |Blues    |"
   ]
  },
  {
   "cell_type": "markdown",
   "metadata": {},
   "source": [
    "We will base our decision on what artists to choose by considering the most popular genres on the platform. Moreover, since the record label is only interested in the American market, we will only considered purchases made in the US."
   ]
  },
  {
   "cell_type": "code",
   "execution_count": 8,
   "metadata": {},
   "outputs": [
    {
     "name": "stdout",
     "output_type": "stream",
     "text": [
      " * sqlite:///chinook.db\n",
      "Done.\n"
     ]
    },
    {
     "data": {
      "text/html": [
       "<table>\n",
       "    <tr>\n",
       "        <th>Genre</th>\n",
       "        <th>Purchases</th>\n",
       "    </tr>\n",
       "    <tr>\n",
       "        <td>Rock</td>\n",
       "        <td>561</td>\n",
       "    </tr>\n",
       "    <tr>\n",
       "        <td>Alternative &amp; Punk</td>\n",
       "        <td>130</td>\n",
       "    </tr>\n",
       "    <tr>\n",
       "        <td>Metal</td>\n",
       "        <td>124</td>\n",
       "    </tr>\n",
       "    <tr>\n",
       "        <td>R&amp;B/Soul</td>\n",
       "        <td>53</td>\n",
       "    </tr>\n",
       "    <tr>\n",
       "        <td>Blues</td>\n",
       "        <td>36</td>\n",
       "    </tr>\n",
       "    <tr>\n",
       "        <td>Alternative</td>\n",
       "        <td>35</td>\n",
       "    </tr>\n",
       "    <tr>\n",
       "        <td>Pop</td>\n",
       "        <td>22</td>\n",
       "    </tr>\n",
       "    <tr>\n",
       "        <td>Latin</td>\n",
       "        <td>22</td>\n",
       "    </tr>\n",
       "    <tr>\n",
       "        <td>Hip Hop/Rap</td>\n",
       "        <td>20</td>\n",
       "    </tr>\n",
       "    <tr>\n",
       "        <td>Jazz</td>\n",
       "        <td>14</td>\n",
       "    </tr>\n",
       "    <tr>\n",
       "        <td>Easy Listening</td>\n",
       "        <td>13</td>\n",
       "    </tr>\n",
       "    <tr>\n",
       "        <td>Reggae</td>\n",
       "        <td>6</td>\n",
       "    </tr>\n",
       "    <tr>\n",
       "        <td>Electronica/Dance</td>\n",
       "        <td>5</td>\n",
       "    </tr>\n",
       "    <tr>\n",
       "        <td>Classical</td>\n",
       "        <td>4</td>\n",
       "    </tr>\n",
       "    <tr>\n",
       "        <td>Heavy Metal</td>\n",
       "        <td>3</td>\n",
       "    </tr>\n",
       "    <tr>\n",
       "        <td>Soundtrack</td>\n",
       "        <td>2</td>\n",
       "    </tr>\n",
       "    <tr>\n",
       "        <td>TV Shows</td>\n",
       "        <td>1</td>\n",
       "    </tr>\n",
       "</table>"
      ],
      "text/plain": [
       "[('Rock', 561),\n",
       " ('Alternative & Punk', 130),\n",
       " ('Metal', 124),\n",
       " ('R&B/Soul', 53),\n",
       " ('Blues', 36),\n",
       " ('Alternative', 35),\n",
       " ('Pop', 22),\n",
       " ('Latin', 22),\n",
       " ('Hip Hop/Rap', 20),\n",
       " ('Jazz', 14),\n",
       " ('Easy Listening', 13),\n",
       " ('Reggae', 6),\n",
       " ('Electronica/Dance', 5),\n",
       " ('Classical', 4),\n",
       " ('Heavy Metal', 3),\n",
       " ('Soundtrack', 2),\n",
       " ('TV Shows', 1)]"
      ]
     },
     "execution_count": 8,
     "metadata": {},
     "output_type": "execute_result"
    }
   ],
   "source": [
    "%%sql\n",
    "\n",
    "-- Print the number of purchases made in the US for each music genre\n",
    "\n",
    "SELECT g.name Genre,\n",
    "       COUNT(il.invoice_line_id) Purchases\n",
    "FROM genre g\n",
    "     INNER JOIN track t ON g.genre_id=t.genre_id\n",
    "     INNER JOIN invoice_line il ON t.track_id=il.track_id\n",
    "     INNER JOIN invoice i ON il.invoice_id=i.invoice_id\n",
    "     INNER JOIN customer c ON c.customer_id=i.customer_id\n",
    "WHERE c.country=\"USA\" AND i.billing_country=\"USA\"\n",
    "GROUP BY 1\n",
    "ORDER BY 2 DESC;"
   ]
  },
  {
   "cell_type": "markdown",
   "metadata": {},
   "source": [
    "Based on these results, we should exclude the artist named Regal. In fact, he sings hip-hop, a genre that is \n",
    "not very popular in the Chinook store when compared to the genres of the other artists proposed by the record label."
   ]
  },
  {
   "cell_type": "markdown",
   "metadata": {},
   "source": [
    "## Finding the Best Sales Support Agent"
   ]
  },
  {
   "cell_type": "markdown",
   "metadata": {},
   "source": [
    "In the following, we will compare the different sales support agent by considering how much money their customers have spent."
   ]
  },
  {
   "cell_type": "code",
   "execution_count": 9,
   "metadata": {},
   "outputs": [
    {
     "name": "stdout",
     "output_type": "stream",
     "text": [
      " * sqlite:///chinook.db\n",
      "Done.\n"
     ]
    },
    {
     "data": {
      "text/html": [
       "<table>\n",
       "    <tr>\n",
       "        <th>Sales_agent</th>\n",
       "        <th>Sales</th>\n",
       "        <th>Number_of_customers</th>\n",
       "        <th>hire_date</th>\n",
       "    </tr>\n",
       "    <tr>\n",
       "        <td>Jane Peacock</td>\n",
       "        <td>1732.0</td>\n",
       "        <td>21</td>\n",
       "        <td>2017-04-01 00:00:00</td>\n",
       "    </tr>\n",
       "    <tr>\n",
       "        <td>Margaret Park</td>\n",
       "        <td>1584.0</td>\n",
       "        <td>20</td>\n",
       "        <td>2017-05-03 00:00:00</td>\n",
       "    </tr>\n",
       "    <tr>\n",
       "        <td>Steve Johnson</td>\n",
       "        <td>1394.0</td>\n",
       "        <td>18</td>\n",
       "        <td>2017-10-17 00:00:00</td>\n",
       "    </tr>\n",
       "</table>"
      ],
      "text/plain": [
       "[('Jane Peacock', 1732.0, 21, '2017-04-01 00:00:00'),\n",
       " ('Margaret Park', 1584.0, 20, '2017-05-03 00:00:00'),\n",
       " ('Steve Johnson', 1394.0, 18, '2017-10-17 00:00:00')]"
      ]
     },
     "execution_count": 9,
     "metadata": {},
     "output_type": "execute_result"
    }
   ],
   "source": [
    "%%sql\n",
    "\n",
    "-- Print the name and last name of the employees whose customers spent the most\n",
    "\n",
    "SELECT e.first_name || \" \" || e.last_name Sales_agent,\n",
    "       ROUND(SUM(i.total)) Sales,\n",
    "       COUNT(DISTINCT(c.customer_id)) Number_of_customers,\n",
    "       e.hire_date\n",
    "FROM employee e\n",
    "     INNER JOIN customer c ON e.employee_id=c.support_rep_id\n",
    "     INNER JOIN invoice i ON c.customer_id=i.customer_id\n",
    "GROUP BY 1\n",
    "ORDER BY 2 DESC;"
   ]
  },
  {
   "cell_type": "markdown",
   "metadata": {},
   "source": [
    "From the table above, it semms like Jane Peacock is the best sale agent since her customers spent the largest amount of money. However, it is important to notice that the lower sales recorded by the other two agents are justified by the fact that they have been working for the Chinook store for a shorter time. All in all, taking in consideration the level of seniority, it's not wrong to say that all the agents are performing equally well."
   ]
  },
  {
   "cell_type": "markdown",
   "metadata": {},
   "source": [
    "## Analyzing Sales Data per Country"
   ]
  },
  {
   "cell_type": "markdown",
   "metadata": {},
   "source": [
    "In this section we will retrieve summary information about sales on the Chinook store in different countries around the world."
   ]
  },
  {
   "cell_type": "code",
   "execution_count": 10,
   "metadata": {},
   "outputs": [
    {
     "name": "stdout",
     "output_type": "stream",
     "text": [
      " * sqlite:///chinook.db\n",
      "Done.\n"
     ]
    },
    {
     "data": {
      "text/html": [
       "<table>\n",
       "    <tr>\n",
       "        <th>country</th>\n",
       "        <th>total_sales</th>\n",
       "        <th>total_customers</th>\n",
       "        <th>total_orders</th>\n",
       "        <th>avg_sale</th>\n",
       "        <th>customer_lifetime_value</th>\n",
       "    </tr>\n",
       "    <tr>\n",
       "        <td>USA</td>\n",
       "        <td>1040.0</td>\n",
       "        <td>13</td>\n",
       "        <td>131</td>\n",
       "        <td>8.0</td>\n",
       "        <td>80.0</td>\n",
       "    </tr>\n",
       "    <tr>\n",
       "        <td>Canada</td>\n",
       "        <td>536.0</td>\n",
       "        <td>8</td>\n",
       "        <td>76</td>\n",
       "        <td>7.0</td>\n",
       "        <td>67.0</td>\n",
       "    </tr>\n",
       "    <tr>\n",
       "        <td>Brazil</td>\n",
       "        <td>428.0</td>\n",
       "        <td>5</td>\n",
       "        <td>61</td>\n",
       "        <td>7.0</td>\n",
       "        <td>85.6</td>\n",
       "    </tr>\n",
       "    <tr>\n",
       "        <td>France</td>\n",
       "        <td>389.0</td>\n",
       "        <td>5</td>\n",
       "        <td>50</td>\n",
       "        <td>8.0</td>\n",
       "        <td>77.8</td>\n",
       "    </tr>\n",
       "    <tr>\n",
       "        <td>Germany</td>\n",
       "        <td>335.0</td>\n",
       "        <td>4</td>\n",
       "        <td>41</td>\n",
       "        <td>8.0</td>\n",
       "        <td>83.75</td>\n",
       "    </tr>\n",
       "    <tr>\n",
       "        <td>Czech Republic</td>\n",
       "        <td>273.0</td>\n",
       "        <td>2</td>\n",
       "        <td>30</td>\n",
       "        <td>9.0</td>\n",
       "        <td>136.5</td>\n",
       "    </tr>\n",
       "    <tr>\n",
       "        <td>United Kingdom</td>\n",
       "        <td>246.0</td>\n",
       "        <td>3</td>\n",
       "        <td>28</td>\n",
       "        <td>9.0</td>\n",
       "        <td>82.0</td>\n",
       "    </tr>\n",
       "    <tr>\n",
       "        <td>Portugal</td>\n",
       "        <td>185.0</td>\n",
       "        <td>2</td>\n",
       "        <td>29</td>\n",
       "        <td>6.0</td>\n",
       "        <td>92.5</td>\n",
       "    </tr>\n",
       "    <tr>\n",
       "        <td>India</td>\n",
       "        <td>183.0</td>\n",
       "        <td>2</td>\n",
       "        <td>21</td>\n",
       "        <td>9.0</td>\n",
       "        <td>91.5</td>\n",
       "    </tr>\n",
       "    <tr>\n",
       "        <td>Other</td>\n",
       "        <td>1093.0</td>\n",
       "        <td>15</td>\n",
       "        <td>147</td>\n",
       "        <td>7.0</td>\n",
       "        <td>73.0</td>\n",
       "    </tr>\n",
       "</table>"
      ],
      "text/plain": [
       "[('USA', 1040.0, 13, 131, 8.0, 80.0),\n",
       " ('Canada', 536.0, 8, 76, 7.0, 67.0),\n",
       " ('Brazil', 428.0, 5, 61, 7.0, 85.6),\n",
       " ('France', 389.0, 5, 50, 8.0, 77.8),\n",
       " ('Germany', 335.0, 4, 41, 8.0, 83.75),\n",
       " ('Czech Republic', 273.0, 2, 30, 9.0, 136.5),\n",
       " ('United Kingdom', 246.0, 3, 28, 9.0, 82.0),\n",
       " ('Portugal', 185.0, 2, 29, 6.0, 92.5),\n",
       " ('India', 183.0, 2, 21, 9.0, 91.5),\n",
       " ('Other', 1093.0, 15, 147, 7.0, 73.0)]"
      ]
     },
     "execution_count": 10,
     "metadata": {},
     "output_type": "execute_result"
    }
   ],
   "source": [
    "%%sql\n",
    "\n",
    "-- Get various sales data in all different countries where the Chinook store is available\n",
    "\n",
    "WITH country_info AS(\n",
    "    SELECT c.country,\n",
    "           ROUND(SUM(i.total)) total_sales,\n",
    "           COUNT(DISTINCT(c.customer_id)) total_customers,\n",
    "           COUNT(i.invoice_id) total_orders,\n",
    "           ROUND(ROUND(SUM(i.total))/COUNT(i.invoice_id)) avg_sale,\n",
    "           ROUND(SUM(i.total))/COUNT(DISTINCT(c.customer_id))\n",
    "           customer_lifetime_value\n",
    "      FROM customer c\n",
    "           INNER JOIN invoice i ON c.customer_id=i.customer_id\n",
    "    GROUP BY 1\n",
    "    ORDER BY 2 DESC)\n",
    "\n",
    "-- Print this sales data grouping by country\n",
    "\n",
    "SELECT *\n",
    "  FROM\n",
    "        (SELECT *   -- On one hand, keep countries with at least two customers separate\n",
    "           FROM country_info\n",
    "          WHERE total_customers > 1\n",
    "\n",
    "         UNION\n",
    "\n",
    "         SELECT \"Other\", -- On the other hand, group together all the countries with only a single customer  \n",
    "                 SUM(total_sales),\n",
    "                 SUM(total_customers),\n",
    "                 SUM(total_orders),\n",
    "                 ROUND(SUM(total_sales)/SUM(total_orders)),\n",
    "                 ROUND(SUM(total_sales)/SUM(total_customers))\n",
    "           FROM  country_info\n",
    "          WHERE  total_customers = 1\n",
    "        )\n",
    "ORDER BY -- Let the `Other` countries appear on the bottom and order the rest of them by total sales revenue \n",
    "         CASE\n",
    "              WHEN country = \"Other\" THEN 1  /*Picks out the `Other` nations using a numeric label in order to\n",
    "                                               pushing them to the bottom of the table*/ \n",
    "              ELSE 2\n",
    "         END DESC,\n",
    "         total_sales DESC;"
   ]
  },
  {
   "cell_type": "markdown",
   "metadata": {},
   "source": [
    "USA, Canada and Brazil are the three countries from which the store has racked up the majority of its sales revenues. The highest average sales, however, come from Czech Republic, United Kingdom and India. This suggests that there might be room for growth in these markets and we should therefore invest there.\n",
    "\n",
    "This said, we need to be a little careful: the sales data in the latter threee countries is generated by a very small customer population (either 2 or 3 customers). If one or more of these customer, for whatever reason, decide to stop using the store, then the sales number could plummet drastically and our investments might cause a loss of money to the store."
   ]
  },
  {
   "cell_type": "markdown",
   "metadata": {},
   "source": [
    "## Analyzing Full Album vs. Single Track Sale Strategy"
   ]
  },
  {
   "cell_type": "markdown",
   "metadata": {},
   "source": [
    "Let's once again assume a hypothetical scenario: in order to save money, management is considering changing the way tracks are purchased from record companies. Under the proposed strategy, only the most popular tracks from each album, rather than the album in its entirety, will be purchased.\n",
    "\n",
    "The possible downside of this strategy is that customers won't be able to find complete albums on the Chinook store anymore. This might eventually result in a loss of customer and, consequently, loss of revenue. "
   ]
  },
  {
   "cell_type": "markdown",
   "metadata": {},
   "source": [
    "Our goal is to determine which of the two strategies (the current one of purchasing all tracks from an album, or the proposed one of only purchasing the most popular ones) is more viable from a business perspective.\n",
    "\n",
    "To get an answer, we calculate the percentage of customers who purchase entire albums, rather than mixing and matching tracks from different ones. To make things a little easier, we operate under the assumption that, once they have selected an entire album to purchase, customers cannot add extra songs from different albums to their order. "
   ]
  },
  {
   "cell_type": "code",
   "execution_count": 11,
   "metadata": {},
   "outputs": [
    {
     "name": "stdout",
     "output_type": "stream",
     "text": [
      " * sqlite:///chinook.db\n",
      "Done.\n"
     ]
    },
    {
     "data": {
      "text/html": [
       "<table>\n",
       "    <tr>\n",
       "        <th>type_of_purchase</th>\n",
       "        <th>number_of_purchases</th>\n",
       "        <th>percentage</th>\n",
       "    </tr>\n",
       "    <tr>\n",
       "        <td>Not album purchase</td>\n",
       "        <td>500</td>\n",
       "        <td>81.43322475570032</td>\n",
       "    </tr>\n",
       "    <tr>\n",
       "        <td>Album purchase</td>\n",
       "        <td>114</td>\n",
       "        <td>18.566775244299674</td>\n",
       "    </tr>\n",
       "</table>"
      ],
      "text/plain": [
       "[('Not album purchase', 500, 81.43322475570032),\n",
       " ('Album purchase', 114, 18.566775244299674)]"
      ]
     },
     "execution_count": 11,
     "metadata": {},
     "output_type": "execute_result"
    }
   ],
   "source": [
    "%%sql\n",
    "\n",
    "-- We create a temporary table which establishes whether each invoice was an album purchase or not\n",
    "\n",
    "WITH purchase_info AS(\n",
    "       SELECT i.invoice_id, -- Get the invoices' ids\n",
    "    \n",
    "       /*Now we label this invoice comparing the set of all tracks purchased and the set of all tracks in one\n",
    "        of the albums one of these tracks appears. Given our assumptions, it doesn't matter which song (hence\n",
    "        which album) we pick.*/\n",
    "       CASE WHEN\n",
    "            (\n",
    "            SELECT t.track_id   -- Get all tracks contained in a album...    \n",
    "              FROM track t\n",
    "             WHERE t.album_id = \n",
    "                                (SELECT t.album_id  -- ... from which at least one song was purchased \n",
    "                                   FROM invoice_line il \n",
    "                                        INNER JOIN track t ON il.track_id=t.track_id\n",
    "                                  WHERE il.invoice_id = i.invoice_id\n",
    "                                  LIMIT 1)   \n",
    "            EXCEPT  -- Now remove... \n",
    "            \n",
    "            SELECT t.track_id  -- ...all tracks purchased in the current invoice    \n",
    "              FROM track t\n",
    "                   INNER JOIN invoice_line il ON t.track_id = il.track_id\n",
    "             WHERE il.invoice_id = i.invoice_id\n",
    "            ) IS NULL\n",
    "    \n",
    "            AND\n",
    "            \n",
    "            -- Now perform the same set complement operation of above but inverting the roles of the two sets\n",
    "            (\n",
    "            SELECT t.track_id\n",
    "              FROM track t\n",
    "                   INNER JOIN invoice_line il ON t.track_id = il.track_id\n",
    "             WHERE il.invoice_id = i.invoice_id\n",
    "                \n",
    "            EXCEPT\n",
    "                \n",
    "            SELECT t.track_id\n",
    "              FROM track t\n",
    "             WHERE t.album_id = \n",
    "                                (SELECT t.album_id\n",
    "                                   FROM invoice_line il \n",
    "                                        INNER JOIN track t ON il.track_id=t.track_id\n",
    "                                  WHERE il.invoice_id = i.invoice_id\n",
    "                                  LIMIT 1\n",
    "                                )\n",
    "            ) IS NULL    \n",
    "            \n",
    "              THEN \"Album purchase\"   /*If both operations above yield the empty set. it means the two sets \n",
    "                                        are the same, i.e., the invoice contains all the songs from an album\n",
    "                                        hence the purchase is an album purchase...*/\n",
    "              ELSE \"Not album purchase\"  -- ... otherwise is not an album purchase\n",
    "            END type_of_purchase\n",
    "         FROM invoice i\n",
    "                                )\n",
    "\n",
    "-- Now use the temporary table we created to calculate the frequency each album/not album purchases  \n",
    "\n",
    "SELECT type_of_purchase,\n",
    "       COUNT(*) number_of_purchases,\n",
    "       CAST(COUNT(*) AS FLOAT) / (  \n",
    "                                  SELECT COUNT(*)\n",
    "                                    FROM invoice) * 100 percentage\n",
    "  FROM purchase_info\n",
    "  GROUP BY type_of_purchase \n",
    "  ORDER BY number_of_purchases DESC;"
   ]
  },
  {
   "cell_type": "markdown",
   "metadata": {},
   "source": [
    "Only in 18.6% of the cases customers purchased a full album. If we decide to only make available the most popular tracks from each album, then we might be losing this category of customers. At the same time, we would be saving a lot in songs copyright expenses.\n",
    "\n",
    "Without any kind of additional information, it's hard to determine what is the best strategy to apply from a business point of view. To avoid making any decision we could end up regretting, it's probably best to collect some precise data about the cost of songs rights; then we could run some numbers and have a better idea of the economical impact of each strategy."
   ]
  },
  {
   "cell_type": "markdown",
   "metadata": {},
   "source": [
    "## Finding the Artists Who Appear in the Greatest Number of Playlists"
   ]
  },
  {
   "cell_type": "markdown",
   "metadata": {},
   "source": [
    "Let's find out what are the artists who appear in the greatest number of playlists."
   ]
  },
  {
   "cell_type": "code",
   "execution_count": 12,
   "metadata": {},
   "outputs": [
    {
     "name": "stdout",
     "output_type": "stream",
     "text": [
      " * sqlite:///chinook.db\n",
      "Done.\n"
     ]
    },
    {
     "data": {
      "text/html": [
       "<table>\n",
       "    <tr>\n",
       "        <th>artist</th>\n",
       "        <th>number_of_playlists</th>\n",
       "    </tr>\n",
       "    <tr>\n",
       "        <td>Eugene Ormandy</td>\n",
       "        <td>7</td>\n",
       "    </tr>\n",
       "    <tr>\n",
       "        <td>The King&#x27;s Singers</td>\n",
       "        <td>6</td>\n",
       "    </tr>\n",
       "    <tr>\n",
       "        <td>English Concert &amp; Trevor Pinnock</td>\n",
       "        <td>6</td>\n",
       "    </tr>\n",
       "    <tr>\n",
       "        <td>Berliner Philharmoniker &amp; Herbert Von Karajan</td>\n",
       "        <td>6</td>\n",
       "    </tr>\n",
       "    <tr>\n",
       "        <td>Academy of St. Martin in the Fields &amp; Sir Neville Marriner</td>\n",
       "        <td>6</td>\n",
       "    </tr>\n",
       "    <tr>\n",
       "        <td>Yo-Yo Ma</td>\n",
       "        <td>5</td>\n",
       "    </tr>\n",
       "    <tr>\n",
       "        <td>Wilhelm Kempff</td>\n",
       "        <td>5</td>\n",
       "    </tr>\n",
       "    <tr>\n",
       "        <td>Ton Koopman</td>\n",
       "        <td>5</td>\n",
       "    </tr>\n",
       "    <tr>\n",
       "        <td>Sir Georg Solti, Sumi Jo &amp; Wiener Philharmoniker</td>\n",
       "        <td>5</td>\n",
       "    </tr>\n",
       "    <tr>\n",
       "        <td>Sir Georg Solti &amp; Wiener Philharmoniker</td>\n",
       "        <td>5</td>\n",
       "    </tr>\n",
       "</table>"
      ],
      "text/plain": [
       "[('Eugene Ormandy', 7),\n",
       " (\"The King's Singers\", 6),\n",
       " ('English Concert & Trevor Pinnock', 6),\n",
       " ('Berliner Philharmoniker & Herbert Von Karajan', 6),\n",
       " ('Academy of St. Martin in the Fields & Sir Neville Marriner', 6),\n",
       " ('Yo-Yo Ma', 5),\n",
       " ('Wilhelm Kempff', 5),\n",
       " ('Ton Koopman', 5),\n",
       " ('Sir Georg Solti, Sumi Jo & Wiener Philharmoniker', 5),\n",
       " ('Sir Georg Solti & Wiener Philharmoniker', 5)]"
      ]
     },
     "execution_count": 12,
     "metadata": {},
     "output_type": "execute_result"
    }
   ],
   "source": [
    "%%sql\n",
    "\n",
    "-- Create a temporary table with all the tracks and corresponding artists containted in the store's playlists \n",
    "\n",
    "WITH playlist_info AS(\n",
    "    SELECT pt.playlist_id playlist_id,\n",
    "           t.name track,\n",
    "           ar.name artist\n",
    "      FROM playlist_track pt\n",
    "           INNER JOIN track t ON pt.track_id = t.track_id\n",
    "           INNER JOIN album al ON al.album_id = t.album_id\n",
    "           INNER JOIN artist ar ON ar.artist_id = al.artist_id\n",
    "                            )\n",
    "\n",
    "\n",
    "SELECT artist,\n",
    "       COUNT(playlist_id) number_of_playlists\n",
    "FROM (SELECT DISTINCT(artist), /*Collapse the temporary table selecting the unique artitsts.\n",
    "                                 The result is a table with all unique artists together with all the playlists\n",
    "                                 they appear on...*/ \n",
    "\n",
    "             playlist_id\n",
    "        FROM playlist_info)\n",
    "GROUP BY 1 -- ... now group by the artists and count the number of playlists they each of them appears on.\n",
    "ORDER BY 2 DESC\n",
    "LIMIT 10;"
   ]
  },
  {
   "cell_type": "markdown",
   "metadata": {},
   "source": [
    "With a total of 7, *Eugene Ormandy* is the artist which appears in the greatest number of playlists. I have honestly never heard of this artist, but consulting his [Wikipedia page](https://en.wikipedia.org/wiki/Eugene_Ormandy) one finds out he was an Hungarian-born conductor and violinist who spent most of his career working with the Philadelphia Orchestra. \n",
    "\n",
    "Taking a more attentive look, It's actually interesting to notice how virtually all the artists with strong playlists presence are or are part of orchestras. This is even more curious if we consider that, when we printed the number of purchases by genre, classical music tracks have been purchased a meager 4 times. Perhaps, this kind of music is sold for cheap by record companies; then the Chinook management might want to take advantage of this price and decides stuffing the playlists available on the store with classical music is a good idea."
   ]
  },
  {
   "cell_type": "markdown",
   "metadata": {},
   "source": [
    "## Assessing the Significance of the Media Type"
   ]
  },
  {
   "cell_type": "markdown",
   "metadata": {},
   "source": [
    "Looking back at the database schema, we spot a table called *media_type* which must inevitably contain information on the different digital type of the tracks. Let's see what these types are and what is the most common.   "
   ]
  },
  {
   "cell_type": "code",
   "execution_count": 13,
   "metadata": {},
   "outputs": [
    {
     "name": "stdout",
     "output_type": "stream",
     "text": [
      " * sqlite:///chinook.db\n",
      "Done.\n"
     ]
    },
    {
     "data": {
      "text/html": [
       "<table>\n",
       "    <tr>\n",
       "        <th>media_type</th>\n",
       "        <th>tracks_purchased</th>\n",
       "    </tr>\n",
       "    <tr>\n",
       "        <td>MPEG audio file</td>\n",
       "        <td>4259</td>\n",
       "    </tr>\n",
       "    <tr>\n",
       "        <td>Protected AAC audio file</td>\n",
       "        <td>439</td>\n",
       "    </tr>\n",
       "    <tr>\n",
       "        <td>Purchased AAC audio file</td>\n",
       "        <td>35</td>\n",
       "    </tr>\n",
       "    <tr>\n",
       "        <td>AAC audio file</td>\n",
       "        <td>21</td>\n",
       "    </tr>\n",
       "    <tr>\n",
       "        <td>Protected MPEG-4 video file</td>\n",
       "        <td>3</td>\n",
       "    </tr>\n",
       "</table>"
      ],
      "text/plain": [
       "[('MPEG audio file', 4259),\n",
       " ('Protected AAC audio file', 439),\n",
       " ('Purchased AAC audio file', 35),\n",
       " ('AAC audio file', 21),\n",
       " ('Protected MPEG-4 video file', 3)]"
      ]
     },
     "execution_count": 13,
     "metadata": {},
     "output_type": "execute_result"
    }
   ],
   "source": [
    "%%sql\n",
    "\n",
    "-- Get each media type count\n",
    "\n",
    "SELECT mt.name media_type, COUNT(*) tracks_purchased \n",
    "FROM invoice_line il \n",
    "     INNER JOIN track t ON il.track_id=t.track_id\n",
    "     INNER JOIN media_type mt ON t.media_type_id = mt.media_type_id\n",
    "GROUP BY 1\n",
    "ORDER BY 2 DESC;"
   ]
  },
  {
   "cell_type": "markdown",
   "metadata": {},
   "source": [
    "Strictly speaking, there are 5 different types of media; but it is more correct to say that there are 2 media types ([MPEG](https://en.wikipedia.org/wiki/Moving_Picture_Experts_Group) and [AAC](https://en.wikipedia.org/wiki/Advanced_Audio_Coding)) and each of them has an extra attribute (*protected* or *not protected*). The overwhelming majority (nearly 90%) of the tracks purchased are of MPEG type and none of these audio files are *protected*. \n",
    "\n",
    "On the other hand, protected audio files are the most common among the AAC type. "
   ]
  },
  {
   "cell_type": "markdown",
   "metadata": {},
   "source": [
    "## Purchased vs. Non-Purchased Tracks"
   ]
  },
  {
   "cell_type": "markdown",
   "metadata": {},
   "source": [
    "Let's conclude by checking what portion of the full songs catalog available on the Chinook store has been purchased at least once."
   ]
  },
  {
   "cell_type": "code",
   "execution_count": 14,
   "metadata": {},
   "outputs": [
    {
     "name": "stdout",
     "output_type": "stream",
     "text": [
      " * sqlite:///chinook.db\n",
      "Done.\n"
     ]
    },
    {
     "data": {
      "text/html": [
       "<table>\n",
       "    <tr>\n",
       "        <th>purchased_tracks</th>\n",
       "        <th>total_tracks</th>\n",
       "        <th>percentage</th>\n",
       "    </tr>\n",
       "    <tr>\n",
       "        <td>1806</td>\n",
       "        <td>3503</td>\n",
       "        <td>52.0</td>\n",
       "    </tr>\n",
       "</table>"
      ],
      "text/plain": [
       "[(1806, 3503, 52.0)]"
      ]
     },
     "execution_count": 14,
     "metadata": {},
     "output_type": "execute_result"
    }
   ],
   "source": [
    "%%sql\n",
    "\n",
    "-- Create a temporary table with the number of tracks purchased at least once\n",
    "\n",
    "WITH purch_tracks_count AS(\n",
    "SELECT COUNT(DISTINCT(t.track_id)) purchased_tracks \n",
    "  FROM track t \n",
    "       INNER JOIN invoice_line il ON t.track_id = il.track_id)\n",
    "\n",
    "-- Calculate the percentage of tracks purchased at least once\n",
    "\n",
    "SELECT purchased_tracks, total_tracks, ROUND(CAST(purchased_tracks AS FLOAT) / total_tracks, 2) * 100\n",
    "                                       AS percentage\n",
    "  FROM purch_tracks_count t JOIN (SELECT COUNT(*) total_tracks\n",
    "                  FROM track);"
   ]
  },
  {
   "cell_type": "markdown",
   "metadata": {},
   "source": [
    "Only 52% of all the tracks available in the store have been purchased at least once. That looks like a quite low number. In retrospective, considering this figure, it might be a good idea to reduce the number of songs to put on the store. "
   ]
  }
 ],
 "metadata": {
  "kernelspec": {
   "display_name": "Python 3 (ipykernel)",
   "language": "python",
   "name": "python3"
  },
  "language_info": {
   "codemirror_mode": {
    "name": "ipython",
    "version": 3
   },
   "file_extension": ".py",
   "mimetype": "text/x-python",
   "name": "python",
   "nbconvert_exporter": "python",
   "pygments_lexer": "ipython3",
   "version": "3.9.7"
  }
 },
 "nbformat": 4,
 "nbformat_minor": 4
}
